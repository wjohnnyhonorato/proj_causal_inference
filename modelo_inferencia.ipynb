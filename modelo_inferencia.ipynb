{
 "cells": [
  {
   "cell_type": "markdown",
   "metadata": {},
   "source": [
    "## imports"
   ]
  },
  {
   "cell_type": "code",
   "execution_count": 19,
   "metadata": {},
   "outputs": [],
   "source": [
    "import numpy as np\n",
    "\n",
    "from dowhy import CausalModel\n",
    "import dowhy.datasets\n",
    "\n",
    "import pandas as pd\n",
    "import networkx as nx\n",
    "from pyvis.network import Network"
   ]
  },
  {
   "cell_type": "markdown",
   "metadata": {},
   "source": [
    "### cria data set causal simulado"
   ]
  },
  {
   "cell_type": "code",
   "execution_count": 20,
   "metadata": {},
   "outputs": [],
   "source": [
    "data = dowhy.datasets.linear_dataset(beta=10,\n",
    "        num_common_causes=2,\n",
    "        num_instruments = 1,\n",
    "        num_effect_modifiers=1,\n",
    "        num_samples=5000,\n",
    "        treatment_is_binary=True,\n",
    "        stddev_treatment_noise=10,\n",
    "        num_discrete_common_causes=1)\n",
    "df = data[\"df\"]"
   ]
  },
  {
   "cell_type": "code",
   "execution_count": 21,
   "metadata": {},
   "outputs": [
    {
     "data": {
      "text/html": [
       "<div>\n",
       "<style scoped>\n",
       "    .dataframe tbody tr th:only-of-type {\n",
       "        vertical-align: middle;\n",
       "    }\n",
       "\n",
       "    .dataframe tbody tr th {\n",
       "        vertical-align: top;\n",
       "    }\n",
       "\n",
       "    .dataframe thead th {\n",
       "        text-align: right;\n",
       "    }\n",
       "</style>\n",
       "<table border=\"1\" class=\"dataframe\">\n",
       "  <thead>\n",
       "    <tr style=\"text-align: right;\">\n",
       "      <th></th>\n",
       "      <th>X0</th>\n",
       "      <th>Z0</th>\n",
       "      <th>W0</th>\n",
       "      <th>W1</th>\n",
       "      <th>v0</th>\n",
       "      <th>y</th>\n",
       "    </tr>\n",
       "  </thead>\n",
       "  <tbody>\n",
       "    <tr>\n",
       "      <th>0</th>\n",
       "      <td>0.451127</td>\n",
       "      <td>0.0</td>\n",
       "      <td>-2.768897</td>\n",
       "      <td>2</td>\n",
       "      <td>True</td>\n",
       "      <td>8.061707</td>\n",
       "    </tr>\n",
       "    <tr>\n",
       "      <th>1</th>\n",
       "      <td>1.793613</td>\n",
       "      <td>0.0</td>\n",
       "      <td>-0.660159</td>\n",
       "      <td>3</td>\n",
       "      <td>True</td>\n",
       "      <td>20.504473</td>\n",
       "    </tr>\n",
       "    <tr>\n",
       "      <th>2</th>\n",
       "      <td>1.244663</td>\n",
       "      <td>0.0</td>\n",
       "      <td>-1.110683</td>\n",
       "      <td>2</td>\n",
       "      <td>True</td>\n",
       "      <td>15.295347</td>\n",
       "    </tr>\n",
       "    <tr>\n",
       "      <th>3</th>\n",
       "      <td>0.728510</td>\n",
       "      <td>0.0</td>\n",
       "      <td>-1.205566</td>\n",
       "      <td>3</td>\n",
       "      <td>True</td>\n",
       "      <td>15.461196</td>\n",
       "    </tr>\n",
       "    <tr>\n",
       "      <th>4</th>\n",
       "      <td>0.258343</td>\n",
       "      <td>1.0</td>\n",
       "      <td>0.193785</td>\n",
       "      <td>0</td>\n",
       "      <td>True</td>\n",
       "      <td>11.403789</td>\n",
       "    </tr>\n",
       "    <tr>\n",
       "      <th>...</th>\n",
       "      <td>...</td>\n",
       "      <td>...</td>\n",
       "      <td>...</td>\n",
       "      <td>...</td>\n",
       "      <td>...</td>\n",
       "      <td>...</td>\n",
       "    </tr>\n",
       "    <tr>\n",
       "      <th>4995</th>\n",
       "      <td>-0.965151</td>\n",
       "      <td>0.0</td>\n",
       "      <td>0.331014</td>\n",
       "      <td>3</td>\n",
       "      <td>True</td>\n",
       "      <td>14.150579</td>\n",
       "    </tr>\n",
       "    <tr>\n",
       "      <th>4996</th>\n",
       "      <td>1.414272</td>\n",
       "      <td>1.0</td>\n",
       "      <td>2.280450</td>\n",
       "      <td>3</td>\n",
       "      <td>True</td>\n",
       "      <td>27.484107</td>\n",
       "    </tr>\n",
       "    <tr>\n",
       "      <th>4997</th>\n",
       "      <td>2.467203</td>\n",
       "      <td>0.0</td>\n",
       "      <td>-0.803450</td>\n",
       "      <td>3</td>\n",
       "      <td>False</td>\n",
       "      <td>4.175303</td>\n",
       "    </tr>\n",
       "    <tr>\n",
       "      <th>4998</th>\n",
       "      <td>1.839292</td>\n",
       "      <td>0.0</td>\n",
       "      <td>-1.066942</td>\n",
       "      <td>0</td>\n",
       "      <td>True</td>\n",
       "      <td>13.097392</td>\n",
       "    </tr>\n",
       "    <tr>\n",
       "      <th>4999</th>\n",
       "      <td>0.522062</td>\n",
       "      <td>1.0</td>\n",
       "      <td>1.088968</td>\n",
       "      <td>3</td>\n",
       "      <td>True</td>\n",
       "      <td>21.205435</td>\n",
       "    </tr>\n",
       "  </tbody>\n",
       "</table>\n",
       "<p>5000 rows × 6 columns</p>\n",
       "</div>"
      ],
      "text/plain": [
       "            X0   Z0        W0 W1     v0          y\n",
       "0     0.451127  0.0 -2.768897  2   True   8.061707\n",
       "1     1.793613  0.0 -0.660159  3   True  20.504473\n",
       "2     1.244663  0.0 -1.110683  2   True  15.295347\n",
       "3     0.728510  0.0 -1.205566  3   True  15.461196\n",
       "4     0.258343  1.0  0.193785  0   True  11.403789\n",
       "...        ...  ...       ... ..    ...        ...\n",
       "4995 -0.965151  0.0  0.331014  3   True  14.150579\n",
       "4996  1.414272  1.0  2.280450  3   True  27.484107\n",
       "4997  2.467203  0.0 -0.803450  3  False   4.175303\n",
       "4998  1.839292  0.0 -1.066942  0   True  13.097392\n",
       "4999  0.522062  1.0  1.088968  3   True  21.205435\n",
       "\n",
       "[5000 rows x 6 columns]"
      ]
     },
     "execution_count": 21,
     "metadata": {},
     "output_type": "execute_result"
    }
   ],
   "source": [
    "df"
   ]
  },
  {
   "cell_type": "markdown",
   "metadata": {},
   "source": [
    "### cria DAG com base em um df salva .gml e .html"
   ]
  },
  {
   "cell_type": "code",
   "execution_count": 27,
   "metadata": {},
   "outputs": [],
   "source": [
    "def create_graph_from_dataframe(df, edge_tuples, gml_filename=\"graph.gml\", html_filename=\"graph.html\"):\n",
    "    \"\"\"\n",
    "    Cria um grafo a partir de um DataFrame usando NetworkX e salva em formato GML.\n",
    "    Em seguida, gera um arquivo HTML interativo usando Pyvis.\n",
    "\n",
    "    Args:\n",
    "        df (pd.DataFrame): O DataFrame de entrada.\n",
    "        edge_tuples (list of tuples): Lista de tuplas representando as arestas (origem, destino).\n",
    "        gml_filename (str, opcional): Nome do arquivo para salvar o grafo em formato GML. Padrão: \"graph.gml\".\n",
    "        html_filename (str, opcional): Nome do arquivo para salvar a visualização HTML. Padrão: \"graph.html\".\n",
    "    \"\"\"\n",
    "    \n",
    "    # Cria um grafo NetworkX a partir das arestas\n",
    "    G = nx.Graph()\n",
    "    for edge in edge_tuples:\n",
    "        source, target = edge\n",
    "        G.add_edge(source, target)\n",
    "\n",
    "    # Salva o grafo em formato GML\n",
    "    nx.write_gml(G, gml_filename)\n",
    "\n",
    "    # Cria uma visualização interativa em HTML usando Pyvis\n",
    "    net = Network(notebook=False, directed=True)\n",
    "    net.from_nx(G)\n",
    "    net.show(html_filename, notebook=False)\n"
   ]
  },
  {
   "cell_type": "code",
   "execution_count": 28,
   "metadata": {},
   "outputs": [
    {
     "name": "stdout",
     "output_type": "stream",
     "text": [
      "graph.html\n"
     ]
    }
   ],
   "source": [
    "# Crie um DataFrame de exemplo\n",
    "data = {\n",
    "    \"A\": [1, 2, 3],\n",
    "    \"B\": [4, 5, 6],\n",
    "    \"C\": [7, 8, 9],\n",
    "    \"D\": [7, 8, 9],\n",
    "}\n",
    "df = pd.DataFrame(data)\n",
    "\n",
    "# Defina as arestas (exemplo)\n",
    "edges = [(\"A\", \"B\"), (\"B\", \"C\"), (\"C\", \"A\"), (\"A\", \"D\")]\n",
    "\n",
    "# Crie o grafo e salve em GML e HTML\n",
    "create_graph_from_dataframe(df, edges)"
   ]
  },
  {
   "cell_type": "markdown",
   "metadata": {},
   "source": [
    "## Input causal Graph"
   ]
  },
  {
   "cell_type": "code",
   "execution_count": 7,
   "metadata": {},
   "outputs": [],
   "source": [
    "# With graph\n",
    "model=CausalModel(\n",
    "        data = df,\n",
    "        treatment=data[\"treatment_name\"],\n",
    "        outcome=data[\"outcome_name\"],\n",
    "        graph=data[\"gml_graph\"]\n",
    "        )"
   ]
  },
  {
   "cell_type": "code",
   "execution_count": null,
   "metadata": {},
   "outputs": [],
   "source": []
  },
  {
   "cell_type": "code",
   "execution_count": null,
   "metadata": {},
   "outputs": [],
   "source": []
  }
 ],
 "metadata": {
  "kernelspec": {
   "display_name": "causal_venv",
   "language": "python",
   "name": "python3"
  },
  "language_info": {
   "codemirror_mode": {
    "name": "ipython",
    "version": 3
   },
   "file_extension": ".py",
   "mimetype": "text/x-python",
   "name": "python",
   "nbconvert_exporter": "python",
   "pygments_lexer": "ipython3",
   "version": "3.12.2"
  }
 },
 "nbformat": 4,
 "nbformat_minor": 2
}
