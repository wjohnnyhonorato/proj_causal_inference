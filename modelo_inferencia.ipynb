{
 "cells": [
  {
   "cell_type": "markdown",
   "metadata": {},
   "source": [
    "## imports"
   ]
  },
  {
   "cell_type": "code",
   "execution_count": 2,
   "metadata": {},
   "outputs": [],
   "source": [
    "import numpy as np\n",
    "\n",
    "from dowhy import CausalModel\n",
    "import dowhy.datasets\n",
    "\n",
    "import pandas as pd\n",
    "import networkx as nx\n",
    "from pyvis.network import Network"
   ]
  },
  {
   "cell_type": "markdown",
   "metadata": {},
   "source": [
    "### Cria data set causal simulado"
   ]
  },
  {
   "cell_type": "code",
   "execution_count": 34,
   "metadata": {},
   "outputs": [],
   "source": [
    "data = dowhy.datasets.linear_dataset(beta=10,\n",
    "        num_common_causes=2,\n",
    "        num_instruments = 1,\n",
    "        num_effect_modifiers=1,\n",
    "        num_samples=1000,\n",
    "        treatment_is_binary=True,\n",
    "        stddev_treatment_noise=10,\n",
    "        num_discrete_common_causes=1)\n",
    "df = data[\"df\"]"
   ]
  },
  {
   "cell_type": "code",
   "execution_count": 35,
   "metadata": {},
   "outputs": [
    {
     "data": {
      "text/plain": [
       "{'df':            X0   Z0        W0 W1     v0          y\n",
       " 0   -0.007753  1.0 -0.622718  2   True  17.566308\n",
       " 1   -0.086370  1.0 -2.235081  1   True   5.767162\n",
       " 2   -1.184358  0.0  0.398026  1  False   6.717132\n",
       " 3   -0.709049  1.0 -2.270332  1  False  -4.350444\n",
       " 4   -0.423841  1.0 -2.892544  0   True  -2.081121\n",
       " ..        ...  ...       ... ..    ...        ...\n",
       " 995 -2.474589  1.0 -0.722443  2   True  16.723422\n",
       " 996 -1.053200  1.0 -1.701018  3   True  17.987997\n",
       " 997 -2.927223  1.0 -0.337603  0   True   8.092726\n",
       " 998  0.141869  0.0 -0.770380  3   True  22.063399\n",
       " 999  0.505497  1.0 -1.466008  2   True  14.153408\n",
       " \n",
       " [1000 rows x 6 columns],\n",
       " 'treatment_name': ['v0'],\n",
       " 'outcome_name': 'y',\n",
       " 'common_causes_names': ['W0', 'W1'],\n",
       " 'instrument_names': ['Z0'],\n",
       " 'effect_modifier_names': ['X0'],\n",
       " 'frontdoor_variables_names': [],\n",
       " 'dot_graph': 'digraph {v0->y;W0-> v0; W1-> v0;Z0-> v0;W0-> y; W1-> y;X0-> y;}',\n",
       " 'gml_graph': 'graph[directed 1node[ id \"y\" label \"y\"]node[ id \"W0\" label \"W0\"] node[ id \"W1\" label \"W1\"]node[ id \"Z0\" label \"Z0\"]node[ id \"v0\" label \"v0\"]edge[source \"v0\" target \"y\"]edge[ source \"W0\" target \"v0\"] edge[ source \"W1\" target \"v0\"]edge[ source \"Z0\" target \"v0\"]edge[ source \"W0\" target \"y\"] edge[ source \"W1\" target \"y\"]node[ id \"X0\" label \"X0\"] edge[ source \"X0\" target \"y\"]]',\n",
       " 'ate': 9.950080272978445}"
      ]
     },
     "execution_count": 35,
     "metadata": {},
     "output_type": "execute_result"
    }
   ],
   "source": [
    "data"
   ]
  },
  {
   "cell_type": "markdown",
   "metadata": {},
   "source": [
    "## Cria DAG \n",
    "* recebe relações causais em uma lista de tuplas\n",
    "* salva .gml e .html"
   ]
  },
  {
   "cell_type": "code",
   "execution_count": 36,
   "metadata": {},
   "outputs": [],
   "source": [
    "def create_graph_from_dataframe(edge_tuples, gml_filename=\"graph.gml\", html_filename=\"graph.html\"):\n",
    "    \"\"\"\n",
    "    Cria um grafo a partir de uma lista de tuplas usando NetworkX e salva em formato GML.\n",
    "    Em seguida, gera um arquivo HTML interativo usando Pyvis.\n",
    "\n",
    "    Args:\n",
    "        df (pd.DataFrame): O DataFrame de entrada.\n",
    "        edge_tuples (list of tuples): Lista de tuplas representando as arestas (origem, destino).\n",
    "        gml_filename (str, opcional): Nome do arquivo para salvar o grafo em formato GML. Padrão: \"graph.gml\".\n",
    "        html_filename (str, opcional): Nome do arquivo para salvar a visualização HTML. Padrão: \"graph.html\".\n",
    "    \"\"\"\n",
    "    \n",
    "    # Cria um grafo NetworkX a partir das arestas\n",
    "    G = nx.Graph()\n",
    "    for edge in edge_tuples:\n",
    "        source, target = edge\n",
    "        G.add_edge(source, target)\n",
    "\n",
    "    # Salva o grafo em formato GML\n",
    "    nx.write_gml(G, gml_filename)\n",
    "\n",
    "    # Cria uma visualização interativa em HTML usando Pyvis\n",
    "    net = Network(notebook=False, directed=True)\n",
    "    net.from_nx(G)\n",
    "    net.show(html_filename, notebook=False)\n"
   ]
  },
  {
   "cell_type": "code",
   "execution_count": 8,
   "metadata": {},
   "outputs": [
    {
     "name": "stdout",
     "output_type": "stream",
     "text": [
      "graph.html\n"
     ]
    }
   ],
   "source": [
    "# Crie um DataFrame de exemplo\n",
    "data = {\n",
    "    \"A\": [1, 2, 3],\n",
    "    \"B\": [4, 5, 6],\n",
    "    \"C\": [7, 8, 9],\n",
    "    \"D\": [7, 8, 9],\n",
    "}\n",
    "df = pd.DataFrame(data)\n",
    "\n",
    "# Defina as arestas (exemplo)\n",
    "edges = [(\"A\", \"B\"), (\"B\", \"C\"), (\"C\", \"A\"), (\"A\", \"D\")]\n",
    "\n",
    "# Crie o grafo e salve em GML e HTML\n",
    "create_graph_from_dataframe(edges)"
   ]
  },
  {
   "cell_type": "markdown",
   "metadata": {},
   "source": [
    "## Input causal Graph"
   ]
  },
  {
   "cell_type": "code",
   "execution_count": 20,
   "metadata": {},
   "outputs": [],
   "source": [
    "# With graph\n",
    "model=CausalModel(\n",
    "        data = df,\n",
    "        treatment=data[\"treatment_name\"],\n",
    "        outcome=data[\"outcome_name\"],\n",
    "        graph=data[\"gml_graph\"]\n",
    "        )"
   ]
  },
  {
   "cell_type": "markdown",
   "metadata": {},
   "source": [
    "## Refute causal graph"
   ]
  },
  {
   "cell_type": "code",
   "execution_count": null,
   "metadata": {},
   "outputs": [],
   "source": []
  },
  {
   "cell_type": "code",
   "execution_count": null,
   "metadata": {},
   "outputs": [],
   "source": []
  },
  {
   "cell_type": "code",
   "execution_count": 32,
   "metadata": {},
   "outputs": [
    {
     "ename": "AttributeError",
     "evalue": "'str' object has no attribute 'nodes'",
     "output_type": "error",
     "traceback": [
      "\u001b[1;31m---------------------------------------------------------------------------\u001b[0m",
      "\u001b[1;31mAttributeError\u001b[0m                            Traceback (most recent call last)",
      "Cell \u001b[1;32mIn[32], line 3\u001b[0m\n\u001b[0;32m      1\u001b[0m \u001b[38;5;28;01mfrom\u001b[39;00m \u001b[38;5;21;01mdowhy\u001b[39;00m\u001b[38;5;21;01m.\u001b[39;00m\u001b[38;5;21;01mgcm\u001b[39;00m\u001b[38;5;21;01m.\u001b[39;00m\u001b[38;5;21;01mfalsify\u001b[39;00m \u001b[38;5;28;01mimport\u001b[39;00m falsify_graph\n\u001b[0;32m      2\u001b[0m \u001b[38;5;66;03m# causal_graph is a networkx digraph\u001b[39;00m\n\u001b[1;32m----> 3\u001b[0m result \u001b[38;5;241m=\u001b[39m \u001b[43mfalsify_graph\u001b[49m\u001b[43m(\u001b[49m\u001b[43mdata\u001b[49m\u001b[43m[\u001b[49m\u001b[38;5;124;43m'\u001b[39;49m\u001b[38;5;124;43mdot_graph\u001b[39;49m\u001b[38;5;124;43m'\u001b[39;49m\u001b[43m]\u001b[49m\u001b[43m,\u001b[49m\u001b[43m \u001b[49m\u001b[43mdata\u001b[49m\u001b[43m[\u001b[49m\u001b[38;5;124;43m'\u001b[39;49m\u001b[38;5;124;43mdf\u001b[39;49m\u001b[38;5;124;43m'\u001b[39;49m\u001b[43m]\u001b[49m\u001b[43m,\u001b[49m\u001b[43m \u001b[49m\u001b[43mshow_progress_bar\u001b[49m\u001b[38;5;241;43m=\u001b[39;49m\u001b[38;5;28;43;01mFalse\u001b[39;49;00m\u001b[43m)\u001b[49m\n\u001b[0;32m      4\u001b[0m \u001b[38;5;28mprint\u001b[39m(result)\n",
      "File \u001b[1;32mc:\\Users\\willi\\codigos\\causal_venv\\Lib\\site-packages\\dowhy\\gcm\\falsify.py:618\u001b[0m, in \u001b[0;36mfalsify_graph\u001b[1;34m(causal_graph, data, suggestions, independence_test, conditional_independence_test, significance_level, significance_ci, n_permutations, show_progress_bar, n_jobs, plot_histogram, plot_kwargs, allow_data_subset)\u001b[0m\n\u001b[0;32m    615\u001b[0m \u001b[38;5;28;01melse\u001b[39;00m:\n\u001b[0;32m    616\u001b[0m     suggestion_methods \u001b[38;5;241m=\u001b[39m \u001b[38;5;28mtuple\u001b[39m()\n\u001b[1;32m--> 618\u001b[0m summary_given \u001b[38;5;241m=\u001b[39m \u001b[43mrun_validations\u001b[49m\u001b[43m(\u001b[49m\n\u001b[0;32m    619\u001b[0m \u001b[43m    \u001b[49m\u001b[43mcausal_graph\u001b[49m\u001b[43m,\u001b[49m\n\u001b[0;32m    620\u001b[0m \u001b[43m    \u001b[49m\u001b[43mdata\u001b[49m\u001b[43m,\u001b[49m\n\u001b[0;32m    621\u001b[0m \u001b[43m    \u001b[49m\u001b[43mmethods\u001b[49m\u001b[38;5;241;43m=\u001b[39;49m\u001b[43mmethods\u001b[49m\u001b[43m \u001b[49m\u001b[38;5;241;43m+\u001b[39;49m\u001b[43m \u001b[49m\u001b[43msuggestion_methods\u001b[49m\u001b[43m,\u001b[49m\n\u001b[0;32m    622\u001b[0m \u001b[43m\u001b[49m\u001b[43m)\u001b[49m\n\u001b[0;32m    623\u001b[0m summary_perm \u001b[38;5;241m=\u001b[39m _permutation_based(\n\u001b[0;32m    624\u001b[0m     causal_graph,\n\u001b[0;32m    625\u001b[0m     data,\n\u001b[1;32m   (...)\u001b[0m\n\u001b[0;32m    629\u001b[0m     show_progress_bar\u001b[38;5;241m=\u001b[39mshow_progress_bar,\n\u001b[0;32m    630\u001b[0m )\n\u001b[0;32m    632\u001b[0m summary \u001b[38;5;241m=\u001b[39m \u001b[38;5;28mdict\u001b[39m()\n",
      "File \u001b[1;32mc:\\Users\\willi\\codigos\\causal_venv\\Lib\\site-packages\\dowhy\\gcm\\falsify.py:412\u001b[0m, in \u001b[0;36mrun_validations\u001b[1;34m(causal_graph, data, methods)\u001b[0m\n\u001b[0;32m    410\u001b[0m \u001b[38;5;28;01mif\u001b[39;00m \u001b[38;5;124m\"\u001b[39m\u001b[38;5;124mdata\u001b[39m\u001b[38;5;124m\"\u001b[39m \u001b[38;5;129;01min\u001b[39;00m getfullargspec(m)\u001b[38;5;241m.\u001b[39margs:\n\u001b[0;32m    411\u001b[0m     m \u001b[38;5;241m=\u001b[39m partial(m, data\u001b[38;5;241m=\u001b[39mdata)\n\u001b[1;32m--> 412\u001b[0m m_summary \u001b[38;5;241m=\u001b[39m \u001b[43mm\u001b[49m\u001b[43m(\u001b[49m\u001b[43mcausal_graph\u001b[49m\u001b[38;5;241;43m=\u001b[39;49m\u001b[43mcausal_graph\u001b[49m\u001b[43m)\u001b[49m\n\u001b[0;32m    413\u001b[0m m_name \u001b[38;5;241m=\u001b[39m m_summary\u001b[38;5;241m.\u001b[39mpop(FalsifyConst\u001b[38;5;241m.\u001b[39mMETHOD)\n\u001b[0;32m    414\u001b[0m validation_summary[m_name] \u001b[38;5;241m=\u001b[39m m_summary\n",
      "File \u001b[1;32mc:\\Users\\willi\\codigos\\causal_venv\\Lib\\site-packages\\dowhy\\gcm\\falsify.py:135\u001b[0m, in \u001b[0;36mvalidate_lmc\u001b[1;34m(causal_graph, data, p_values_memory, independence_test, conditional_independence_test, significance_level, include_unconditional, n_jobs)\u001b[0m\n\u001b[0;32m    127\u001b[0m validation_summary \u001b[38;5;241m=\u001b[39m {\n\u001b[0;32m    128\u001b[0m     FalsifyConst\u001b[38;5;241m.\u001b[39mMETHOD: FalsifyConst\u001b[38;5;241m.\u001b[39mVALIDATE_LMC,\n\u001b[0;32m    129\u001b[0m     FalsifyConst\u001b[38;5;241m.\u001b[39mN_VIOLATIONS: \u001b[38;5;241m0\u001b[39m,\n\u001b[0;32m    130\u001b[0m     FalsifyConst\u001b[38;5;241m.\u001b[39mN_TESTS: \u001b[38;5;241m0\u001b[39m,\n\u001b[0;32m    131\u001b[0m     FalsifyConst\u001b[38;5;241m.\u001b[39mP_VALUES: \u001b[38;5;28mdict\u001b[39m(),\n\u001b[0;32m    132\u001b[0m }\n\u001b[0;32m    134\u001b[0m \u001b[38;5;66;03m# Find out which tests to do\u001b[39;00m\n\u001b[1;32m--> 135\u001b[0m triples \u001b[38;5;241m=\u001b[39m \u001b[43m_get_parental_triples\u001b[49m\u001b[43m(\u001b[49m\u001b[43mcausal_graph\u001b[49m\u001b[43m,\u001b[49m\u001b[43m \u001b[49m\u001b[43minclude_unconditional\u001b[49m\u001b[43m)\u001b[49m\n\u001b[0;32m    136\u001b[0m to_test \u001b[38;5;241m=\u001b[39m []\n\u001b[0;32m    137\u001b[0m \u001b[38;5;28;01mfor\u001b[39;00m node, non_desc, parents \u001b[38;5;129;01min\u001b[39;00m triples:\n",
      "File \u001b[1;32mc:\\Users\\willi\\codigos\\causal_venv\\Lib\\site-packages\\dowhy\\gcm\\falsify.py:873\u001b[0m, in \u001b[0;36m_get_parental_triples\u001b[1;34m(causal_graph, include_unconditional)\u001b[0m\n\u001b[0;32m    867\u001b[0m \u001b[38;5;250m\u001b[39m\u001b[38;5;124;03m\"\"\"\u001b[39;00m\n\u001b[0;32m    868\u001b[0m \u001b[38;5;124;03mFor a given graph collect all parental triples, that is, the triple (X, Y, Z) is a parental triple iff\u001b[39;00m\n\u001b[0;32m    869\u001b[0m \u001b[38;5;124;03m    Y is non-descendant of X, and\u001b[39;00m\n\u001b[0;32m    870\u001b[0m \u001b[38;5;124;03m    Z are the parents of X (can be empty if include_unconditional=True)\u001b[39;00m\n\u001b[0;32m    871\u001b[0m \u001b[38;5;124;03m\"\"\"\u001b[39;00m\n\u001b[0;32m    872\u001b[0m triples \u001b[38;5;241m=\u001b[39m []\n\u001b[1;32m--> 873\u001b[0m \u001b[38;5;28;01mfor\u001b[39;00m node \u001b[38;5;129;01min\u001b[39;00m \u001b[43mcausal_graph\u001b[49m\u001b[38;5;241;43m.\u001b[39;49m\u001b[43mnodes\u001b[49m:\n\u001b[0;32m    874\u001b[0m     parents \u001b[38;5;241m=\u001b[39m get_ordered_predecessors(causal_graph, node)\n\u001b[0;32m    875\u001b[0m     non_descendants \u001b[38;5;241m=\u001b[39m _get_non_descendants(causal_graph, node, exclude_parents\u001b[38;5;241m=\u001b[39m\u001b[38;5;28;01mTrue\u001b[39;00m)\n",
      "\u001b[1;31mAttributeError\u001b[0m: 'str' object has no attribute 'nodes'"
     ]
    }
   ],
   "source": [
    "from dowhy.gcm.falsify import falsify_graph\n",
    "# causal_graph is a networkx digraph\n",
    "result = falsify_graph(data['dot_graph'], data['df'], show_progress_bar=False)\n",
    "print(result)"
   ]
  },
  {
   "cell_type": "code",
   "execution_count": 22,
   "metadata": {},
   "outputs": [
    {
     "ename": "AttributeError",
     "evalue": "'CausalModel' object has no attribute 'nodes'",
     "output_type": "error",
     "traceback": [
      "\u001b[1;31m---------------------------------------------------------------------------\u001b[0m",
      "\u001b[1;31mAttributeError\u001b[0m                            Traceback (most recent call last)",
      "Cell \u001b[1;32mIn[22], line 1\u001b[0m\n\u001b[1;32m----> 1\u001b[0m \u001b[43mmodel\u001b[49m\u001b[38;5;241;43m.\u001b[39;49m\u001b[43mnodes\u001b[49m\n",
      "\u001b[1;31mAttributeError\u001b[0m: 'CausalModel' object has no attribute 'nodes'"
     ]
    }
   ],
   "source": []
  },
  {
   "cell_type": "code",
   "execution_count": null,
   "metadata": {},
   "outputs": [],
   "source": []
  }
 ],
 "metadata": {
  "kernelspec": {
   "display_name": "causal_venv",
   "language": "python",
   "name": "python3"
  },
  "language_info": {
   "codemirror_mode": {
    "name": "ipython",
    "version": 3
   },
   "file_extension": ".py",
   "mimetype": "text/x-python",
   "name": "python",
   "nbconvert_exporter": "python",
   "pygments_lexer": "ipython3",
   "version": "3.11.9"
  }
 },
 "nbformat": 4,
 "nbformat_minor": 2
}
